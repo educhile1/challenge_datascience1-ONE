{
  "nbformat": 4,
  "nbformat_minor": 0,
  "metadata": {
    "colab": {
      "provenance": [],
      "toc_visible": true,
      "include_colab_link": true
    },
    "kernelspec": {
      "name": "python3",
      "display_name": "Python 3"
    },
    "language_info": {
      "name": "python"
    }
  },
  "cells": [
    {
      "cell_type": "markdown",
      "metadata": {
        "id": "view-in-github",
        "colab_type": "text"
      },
      "source": [
        "<a href=\"https://colab.research.google.com/github/educhile1/challenge_datascience1-ONE/blob/main/AluraStoreLatam.ipynb\" target=\"_parent\"><img src=\"https://colab.research.google.com/assets/colab-badge.svg\" alt=\"Open In Colab\"/></a>"
      ]
    },
    {
      "cell_type": "markdown",
      "source": [
        "### Importación de datos\n",
        "\n"
      ],
      "metadata": {
        "id": "RhEdWd9YUR6H"
      }
    },
    {
      "cell_type": "code",
      "execution_count": 3,
      "metadata": {
        "colab": {
          "base_uri": "https://localhost:8080/",
          "height": 542
        },
        "id": "T3EvaeQ_INIL",
        "outputId": "7b160ff1-2851-4d07-ad73-3d9625cd8a3a"
      },
      "outputs": [
        {
          "output_type": "execute_result",
          "data": {
            "text/plain": [
              "array([[<Axes: title={'center': 'Precio'}>,\n",
              "        <Axes: title={'center': 'Costo de envío'}>],\n",
              "       [<Axes: title={'center': 'Calificación'}>,\n",
              "        <Axes: title={'center': 'lat'}>],\n",
              "       [<Axes: title={'center': 'lon'}>, <Axes: >]], dtype=object)"
            ]
          },
          "metadata": {},
          "execution_count": 3
        },
        {
          "output_type": "display_data",
          "data": {
            "text/plain": [
              "<Figure size 640x480 with 6 Axes>"
            ],
            "image/png": "[encoded data removed]"
          },
          "metadata": {}
        }
      ],
      "source": [
        "import pandas as pd\n",
        "import matplotlib as plt\n",
        "\n",
        "\n",
        "\n",
        "\n",
        "url = \"https://raw.githubusercontent.com/alura-es-cursos/challenge1-data-science-latam/refs/heads/main/base-de-datos-challenge1-latam/tienda_1%20.csv\"\n",
        "url2 = \"https://raw.githubusercontent.com/alura-es-cursos/challenge1-data-science-latam/refs/heads/main/base-de-datos-challenge1-latam/tienda_2.csv\"\n",
        "url3 = \"https://raw.githubusercontent.com/alura-es-cursos/challenge1-data-science-latam/refs/heads/main/base-de-datos-challenge1-latam/tienda_3.csv\"\n",
        "url4 = \"https://raw.githubusercontent.com/alura-es-cursos/challenge1-data-science-latam/refs/heads/main/base-de-datos-challenge1-latam/tienda_4.csv\"\n",
        "\n",
        "tienda = pd.read_csv(url)\n",
        "tienda2 = pd.read_csv(url2)\n",
        "tienda3 = pd.read_csv(url3)\n",
        "tienda4 = pd.read_csv(url4)\n",
        "\n",
        "tienda.head()\n",
        "\n",
        "\n",
        "dataTienda= pd.DataFrame(tienda)\n",
        "\n",
        "dataTienda.head(20)\n",
        "#dataTienda.groupby(['Producto']).sum().head(20)\n",
        "\n",
        "\n",
        "#dataTienda.info()\n",
        "%matplotlib inline\n",
        "\n",
        "\n",
        "dataTienda= dataTienda.drop(columns=['Cantidad de cuotas'])\n",
        "\n",
        "dataTienda.groupby(\"Producto\").sum().hist()\n",
        "\n",
        "\n"
      ]
    },
    {
      "cell_type": "markdown",
      "source": [
        "#1. Análisis de facturación\n",
        "\n"
      ],
      "metadata": {
        "id": "X62IW3KFUIYm"
      }
    },
    {
      "cell_type": "code",
      "source": [],
      "metadata": {
        "id": "xykobSftV64I"
      },
      "execution_count": null,
      "outputs": []
    },
    {
      "cell_type": "code",
      "source": [],
      "metadata": {
        "id": "KDyr8E71V3m-"
      },
      "execution_count": null,
      "outputs": []
    },
    {
      "cell_type": "markdown",
      "source": [
        "# 2. Ventas por categoría"
      ],
      "metadata": {
        "id": "2V_vcAPzWZmR"
      }
    },
    {
      "cell_type": "code",
      "source": [],
      "metadata": {
        "id": "A34YupIuYhfF"
      },
      "execution_count": null,
      "outputs": []
    },
    {
      "cell_type": "code",
      "source": [],
      "metadata": {
        "id": "yZR6cOjXYSk1"
      },
      "execution_count": null,
      "outputs": []
    },
    {
      "cell_type": "markdown",
      "source": [
        "# 3. Calificación promedio de la tienda\n"
      ],
      "metadata": {
        "id": "Rq6tU_xSY3jk"
      }
    },
    {
      "cell_type": "code",
      "source": [],
      "metadata": {
        "id": "bh3jjjJwY5MU"
      },
      "execution_count": null,
      "outputs": []
    },
    {
      "cell_type": "code",
      "source": [],
      "metadata": {
        "id": "I0KkjPoTY88F"
      },
      "execution_count": null,
      "outputs": []
    },
    {
      "cell_type": "markdown",
      "source": [
        "# 4. Productos más y menos vendidos"
      ],
      "metadata": {
        "id": "DmNp1KPBZCm-"
      }
    },
    {
      "cell_type": "code",
      "source": [],
      "metadata": {
        "id": "qoyjqijQZHfF"
      },
      "execution_count": null,
      "outputs": []
    },
    {
      "cell_type": "code",
      "source": [],
      "metadata": {
        "id": "0Sw3sd4IZIGW"
      },
      "execution_count": null,
      "outputs": []
    },
    {
      "cell_type": "markdown",
      "source": [
        "# 5. Envío promedio por tienda"
      ],
      "metadata": {
        "id": "Fl0cGi3bZKqU"
      }
    },
    {
      "cell_type": "code",
      "source": [],
      "metadata": {
        "id": "S2JeaCykZNy9"
      },
      "execution_count": null,
      "outputs": []
    },
    {
      "cell_type": "code",
      "source": [],
      "metadata": {
        "id": "0tSdCie9ZQlt"
      },
      "execution_count": null,
      "outputs": []
    }
  ]
}